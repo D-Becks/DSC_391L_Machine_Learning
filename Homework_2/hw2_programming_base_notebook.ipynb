{
 "cells": [
  {
   "cell_type": "code",
   "metadata": {
    "colab": {},
    "colab_type": "code",
    "id": "1Rg2uSiFSRJe",
    "ExecuteTime": {
     "end_time": "2024-06-21T22:48:03.330437Z",
     "start_time": "2024-06-21T22:48:03.318195Z"
    }
   },
   "source": [
    "import numpy as np\n",
    "import matplotlib.pyplot as plt\n",
    "import seaborn as sns\n",
    "import time\n",
    "\n",
    "from sklearn.linear_model import LogisticRegression\n",
    "from sklearn import datasets"
   ],
   "outputs": [],
   "execution_count": 20
  },
  {
   "metadata": {
    "ExecuteTime": {
     "end_time": "2024-06-21T22:45:19.355720Z",
     "start_time": "2024-06-21T22:45:19.331077Z"
    }
   },
   "cell_type": "code",
   "source": "np.random.seed(0)",
   "outputs": [],
   "execution_count": 9
  },
  {
   "cell_type": "markdown",
   "metadata": {
    "colab_type": "text",
    "id": "oDTSO7-MSRJj"
   },
   "source": [
    "# Problem 1\n",
    "## Dataset Generation"
   ]
  },
  {
   "cell_type": "markdown",
   "metadata": {
    "colab_type": "text",
    "id": "Tx7KW28cSRJk"
   },
   "source": [
    "Write a function to **generate a training set** of size $m$\n",
    "- randomly generate a weight vector $w \\in \\mathbb{R}^{10}$, normalize length\n",
    "- generate a training set $\\{(x_i , y_i)\\}$ of size m\n",
    "  - $x_i$: random vector in $\\mathbb{R}^{10}$ from $\\textbf{N}(0, I)$\n",
    "  - $y_i$: $\\{0, +1\\}$ with $P[y = +1] = \\sigma(w \\cdot x_i)$ and $P[y = 0] = 1 - \\sigma(w \\cdot x_i)$"
   ]
  },
  {
   "metadata": {
    "ExecuteTime": {
     "end_time": "2024-06-21T22:45:20.289054Z",
     "start_time": "2024-06-21T22:45:20.272739Z"
    }
   },
   "cell_type": "code",
   "source": [
    "def sigmoid(x):\n",
    "    return 1 / (1 + np.exp(-x))"
   ],
   "outputs": [],
   "execution_count": 10
  },
  {
   "cell_type": "code",
   "metadata": {
    "colab": {},
    "colab_type": "code",
    "id": "AUHuXrsgSRJl",
    "ExecuteTime": {
     "end_time": "2024-06-21T22:45:20.521003Z",
     "start_time": "2024-06-21T22:45:20.503208Z"
    }
   },
   "source": [
    "def generate_data(m):\n",
    "    # returns the true w as well as X, Y data\n",
    "     # Step 1: Generate w* from a standard normal distribution\n",
    "    w_true = np.random.randn(10)\n",
    "    \n",
    "    # Normalize w* to have an Euclidean norm of 1\n",
    "    w_true /= np.linalg.norm(w_true)\n",
    "    \n",
    "    # Step 2: Generate the training set\n",
    "    X = np.random.randn(m, 10)\n",
    "    \n",
    "    # Calculate the probability for y_i to be 1\n",
    "    probabilities = sigmoid(np.dot(X, w_true))\n",
    "    \n",
    "    # Generate y_i based on the calculated probabilities\n",
    "    Y = np.random.rand(m) <= probabilities\n",
    "    \n",
    "    return w_true, X, Y.astype(int)"
   ],
   "outputs": [],
   "execution_count": 11
  },
  {
   "metadata": {
    "ExecuteTime": {
     "end_time": "2024-06-21T22:45:21.037897Z",
     "start_time": "2024-06-21T22:45:21.010461Z"
    }
   },
   "cell_type": "code",
   "source": [
    "# Generate a training set of size m\n",
    "m = 1000  # Example size\n",
    "w_star, X, Y = generate_data(m)\n",
    "w_star, X[:5], Y[:5]  # Display the true w_star, and the first 5 samples of X and Y"
   ],
   "outputs": [
    {
     "data": {
      "text/plain": [
       "(array([ 0.4585559 ,  0.10401871,  0.25441767,  0.58250812,  0.48546164,\n",
       "        -0.25403812,  0.24697037, -0.03934449, -0.02683118,  0.10673287]),\n",
       " array([[ 0.14404357,  1.45427351,  0.76103773,  0.12167502,  0.44386323,\n",
       "          0.33367433,  1.49407907, -0.20515826,  0.3130677 , -0.85409574],\n",
       "        [-2.55298982,  0.6536186 ,  0.8644362 , -0.74216502,  2.26975462,\n",
       "         -1.45436567,  0.04575852, -0.18718385,  1.53277921,  1.46935877],\n",
       "        [ 0.15494743,  0.37816252, -0.88778575, -1.98079647, -0.34791215,\n",
       "          0.15634897,  1.23029068,  1.20237985, -0.38732682, -0.30230275],\n",
       "        [-1.04855297, -1.42001794, -1.70627019,  1.9507754 , -0.50965218,\n",
       "         -0.4380743 , -1.25279536,  0.77749036, -1.61389785, -0.21274028],\n",
       "        [-0.89546656,  0.3869025 , -0.51080514, -1.18063218, -0.02818223,\n",
       "          0.42833187,  0.06651722,  0.3024719 , -0.63432209, -0.36274117]]),\n",
       " array([1, 1, 1, 0, 0]))"
      ]
     },
     "execution_count": 12,
     "metadata": {},
     "output_type": "execute_result"
    }
   ],
   "execution_count": 12
  },
  {
   "metadata": {
    "ExecuteTime": {
     "end_time": "2024-06-21T22:45:23.255357Z",
     "start_time": "2024-06-21T22:45:23.231277Z"
    }
   },
   "cell_type": "code",
   "source": "np.linalg.norm(w_star)",
   "outputs": [
    {
     "data": {
      "text/plain": [
       "1.0"
      ]
     },
     "execution_count": 13,
     "metadata": {},
     "output_type": "execute_result"
    }
   ],
   "execution_count": 13
  },
  {
   "cell_type": "markdown",
   "metadata": {
    "colab_type": "text",
    "id": "wx2-15fASRJy"
   },
   "source": [
    "## Algorithm 1: logistic regression\n",
    "\n",
    "The goal is to learn $w$.  Algorithm 1 is logistic\n",
    "  regression (you may use the built-in method LogisticRegression for this. Use max_iter=1000)."
   ]
  },
  {
   "cell_type": "code",
   "metadata": {
    "colab": {},
    "colab_type": "code",
    "id": "Vj8b21jgSRJz",
    "ExecuteTime": {
     "end_time": "2024-06-21T22:45:35.259848Z",
     "start_time": "2024-06-21T22:45:35.243897Z"
    }
   },
   "source": [
    "def train_logistic_regression(X, Y):\n",
    "    # Create a logistic regression model with a maximum of 1000 iterations\n",
    "    model = LogisticRegression(max_iter=1000)\n",
    "    # Fit the model to the training data\n",
    "    model.fit(X, Y)\n",
    "    # Return the learned coefficients\n",
    "    return model.coef_"
   ],
   "outputs": [],
   "execution_count": 14
  },
  {
   "metadata": {
    "ExecuteTime": {
     "end_time": "2024-06-21T22:45:35.766781Z",
     "start_time": "2024-06-21T22:45:35.742109Z"
    }
   },
   "cell_type": "code",
   "source": [
    "# Train logistic regression model on the generated data\n",
    "learned_w_logistic = train_logistic_regression(X, Y)\n",
    "learned_w_logistic"
   ],
   "outputs": [
    {
     "data": {
      "text/plain": [
       "array([[ 5.01347723e-01,  1.31930066e-01,  2.47343489e-01,\n",
       "         6.42109657e-01,  3.92731881e-01, -2.43075279e-01,\n",
       "         3.13122352e-01,  1.05512610e-02,  6.13322805e-04,\n",
       "        -6.89670391e-03]])"
      ]
     },
     "execution_count": 15,
     "metadata": {},
     "output_type": "execute_result"
    }
   ],
   "execution_count": 15
  },
  {
   "cell_type": "markdown",
   "metadata": {
    "colab_type": "text",
    "id": "YzmNdy6ZSRJ3"
   },
   "source": [
    "## Algorithm 2: gradient descent with square loss\n",
    "\n",
    "Define square loss as\n",
    "$$L_i(w^{(t)}) = \\frac{1}{2} \\left( \\sigma(w^{(t)} \\cdot x) - y_i \\right)^2$$\n",
    "\n",
    "  Algorithm 2 is\n",
    "  gradient descent with respect to square loss (code this\n",
    "  up yourself -- run for 1000 iterations, use step size eta = 0.01)."
   ]
  },
  {
   "metadata": {
    "ExecuteTime": {
     "end_time": "2024-06-21T22:46:11.578836Z",
     "start_time": "2024-06-21T22:46:11.555508Z"
    }
   },
   "cell_type": "code",
   "source": [
    "def gradient_descent(X, Y, eta=0.01, iterations=1000):\n",
    "    m, n = X.shape\n",
    "    w = np.random.randn(n)  # Initialize weights randomly\n",
    "    for t in range(iterations):\n",
    "        gradient = np.zeros(n)\n",
    "        for i in range(m):\n",
    "            xi = X[i]\n",
    "            yi = Y[i]\n",
    "            prediction = sigmoid(np.dot(w, xi))\n",
    "            gradient += (prediction - yi) * prediction * (1 - prediction) * xi\n",
    "        gradient /= m\n",
    "        w -= eta * gradient\n",
    "    return w"
   ],
   "outputs": [],
   "execution_count": 16
  },
  {
   "metadata": {
    "ExecuteTime": {
     "end_time": "2024-06-21T22:46:18.155362Z",
     "start_time": "2024-06-21T22:46:12.044789Z"
    }
   },
   "cell_type": "code",
   "source": [
    "# Train the model using gradient descent with square loss\n",
    "learned_w_gd = gradient_descent(X, Y)\n",
    "learned_w_gd"
   ],
   "outputs": [
    {
     "data": {
      "text/plain": [
       "array([ 0.30441663,  0.21571721, -0.3528297 ,  1.24320032,  1.42942146,\n",
       "        2.0219472 , -1.73613192, -1.17032644, -1.27363456,  0.37922504])"
      ]
     },
     "execution_count": 17,
     "metadata": {},
     "output_type": "execute_result"
    }
   ],
   "execution_count": 17
  },
  {
   "cell_type": "markdown",
   "metadata": {},
   "source": [
    "## Algorithm 3: stochastic gradient descent with square loss\n",
    "Similar to gradient descent, except we use the gradient at a single random training point every iteration."
   ]
  },
  {
   "cell_type": "code",
   "metadata": {
    "ExecuteTime": {
     "end_time": "2024-06-21T22:46:55.540249Z",
     "start_time": "2024-06-21T22:46:55.530190Z"
    }
   },
   "source": [
    "def stochastic_gradient_descent(X, Y, eta=0.01, iterations=1000):\n",
    "    m, n = X.shape\n",
    "    w = np.random.randn(n)  # Initialize weights randomly\n",
    "    for t in range(iterations):\n",
    "        # Pick a random index\n",
    "        i = np.random.randint(m)\n",
    "        xi = X[i]\n",
    "        yi = Y[i]\n",
    "        prediction = sigmoid(np.dot(w, xi))\n",
    "        gradient = (prediction - yi) * prediction * (1 - prediction) * xi\n",
    "        w -= eta * gradient\n",
    "    return w"
   ],
   "outputs": [],
   "execution_count": 18
  },
  {
   "metadata": {
    "ExecuteTime": {
     "end_time": "2024-06-21T22:46:55.870803Z",
     "start_time": "2024-06-21T22:46:55.827731Z"
    }
   },
   "cell_type": "code",
   "source": [
    "# Train the model using stochastic gradient descent with square loss\n",
    "learned_w_sgd = stochastic_gradient_descent(X, Y)\n",
    "learned_w_sgd"
   ],
   "outputs": [
    {
     "data": {
      "text/plain": [
       "array([ 1.13839292,  0.89949244,  1.43288926, -0.66731822,  1.07657381,\n",
       "       -0.71331782, -1.3656654 , -0.69077473, -0.56524327,  0.47068708])"
      ]
     },
     "execution_count": 19,
     "metadata": {},
     "output_type": "execute_result"
    }
   ],
   "execution_count": 19
  },
  {
   "cell_type": "markdown",
   "metadata": {
    "colab_type": "text",
    "id": "5A-dLi3TSRJ-"
   },
   "source": [
    "## Evaluation\n",
    "\n",
    "Measure error $\\|w - \\hat{w}\\|_2$ for each method at different sample size. For any\n",
    "  fixed value of $m$, choose many different $w$'s and average the\n",
    "  values $\\|w - \n",
    "  \\hat{w}\\|_2$ for Algorithms 1, 2 and 3.  Plot the results\n",
    "  for for each algorithm as you make $m$ large (use $m=50, 100, 150, 200, 250$).\n",
    "  Also record, for each algorithm, the time taken to run the overall experiment."
   ]
  },
  {
   "metadata": {
    "ExecuteTime": {
     "end_time": "2024-06-21T22:48:13.233714Z",
     "start_time": "2024-06-21T22:48:13.218781Z"
    }
   },
   "cell_type": "code",
   "source": [
    "def evaluate_algorithm(algorithm, m_values, num_trials=10, eta=0.01, iterations=1000):\n",
    "    errors = []\n",
    "    times = []\n",
    "    \n",
    "    for m in m_values:\n",
    "        total_error = 0\n",
    "        start_time = time.time()\n",
    "        \n",
    "        for _ in range(num_trials):\n",
    "            # Generate fresh w* and fresh training data\n",
    "            w_star, X, Y = generate_data(m)\n",
    "            \n",
    "            # Train the algorithm and get w_prime\n",
    "            if algorithm == 'logistic_regression':\n",
    "                w_prime = train_logistic_regression(X, Y).flatten()\n",
    "            elif algorithm == 'gradient_descent':\n",
    "                w_prime = gradient_descent(X, Y, eta, iterations)\n",
    "            elif algorithm == 'stochastic_gradient_descent':\n",
    "                w_prime = stochastic_gradient_descent(X, Y, eta, iterations)\n",
    "            \n",
    "            # Calculate the error\n",
    "            error = np.linalg.norm(w_star - w_prime)\n",
    "            total_error += error\n",
    "        \n",
    "        avg_error = total_error / num_trials\n",
    "        errors.append(avg_error)\n",
    "        times.append(time.time() - start_time)\n",
    "    \n",
    "    return errors, times"
   ],
   "outputs": [],
   "execution_count": 21
  },
  {
   "cell_type": "code",
   "metadata": {
    "ExecuteTime": {
     "end_time": "2024-06-21T22:48:58.928535Z",
     "start_time": "2024-06-21T22:48:13.758927Z"
    }
   },
   "source": [
    "# Set the sample sizes to evaluate\n",
    "m_values = [50, 100, 150, 200, 250]\n",
    "\n",
    "# Evaluate each algorithm\n",
    "errors_lr, times_lr = evaluate_algorithm('logistic_regression', m_values)\n",
    "errors_gd, times_gd = evaluate_algorithm('gradient_descent', m_values)\n",
    "errors_sgd, times_sgd = evaluate_algorithm('stochastic_gradient_descent', m_values)"
   ],
   "outputs": [],
   "execution_count": 22
  },
  {
   "metadata": {
    "ExecuteTime": {
     "end_time": "2024-06-21T22:48:59.678038Z",
     "start_time": "2024-06-21T22:48:58.933380Z"
    }
   },
   "cell_type": "code",
   "source": [
    "# Plot the results\n",
    "plt.figure(figsize=(12, 6))\n",
    "\n",
    "plt.subplot(1, 2, 1)\n",
    "plt.plot(m_values, errors_lr, label='Logistic Regression')\n",
    "plt.plot(m_values, errors_gd, label='Gradient Descent')\n",
    "plt.plot(m_values, errors_sgd, label='Stochastic Gradient Descent')\n",
    "plt.xlabel('Sample Size (m)')\n",
    "plt.ylabel('Average Error')\n",
    "plt.title('Average Error vs Sample Size')\n",
    "plt.legend()\n",
    "\n",
    "plt.subplot(1, 2, 2)\n",
    "plt.plot(m_values, times_lr, label='Logistic Regression')\n",
    "plt.plot(m_values, times_gd, label='Gradient Descent')\n",
    "plt.plot(m_values, times_sgd, label='Stochastic Gradient Descent')\n",
    "plt.xlabel('Sample Size (m)')\n",
    "plt.ylabel('Time (seconds)')\n",
    "plt.title('Time Taken vs Sample Size')\n",
    "plt.legend()\n",
    "\n",
    "plt.tight_layout()\n",
    "plt.show()"
   ],
   "outputs": [
    {
     "data": {
      "text/plain": [
       "<Figure size 1200x600 with 2 Axes>"
      ],
      "image/png": "[encoded data removed]"
     },
     "metadata": {},
     "output_type": "display_data"
    }
   ],
   "execution_count": 23
  },
  {
   "cell_type": "markdown",
   "metadata": {},
   "source": [
    "# Problem 2"
   ]
  },
  {
   "cell_type": "code",
   "execution_count": 3,
   "metadata": {},
   "outputs": [],
   "source": [
    "from sklearn import datasets"
   ]
  },
  {
   "cell_type": "code",
   "execution_count": 4,
   "metadata": {},
   "outputs": [],
   "source": [
    "cancer = datasets.load_breast_cancer()"
   ]
  },
  {
   "cell_type": "markdown",
   "metadata": {},
   "source": [
    "For each depth in $1, \\dots, 5$, instantiate an AdaBoost classifier with the base learner set to be a decision tree of that depth (set `n_estimators=10` and `learning_rate=1`), and then record the 10-fold cross-validated error on the entire breast cancer data set. Plot the resulting curve of accuracy against base classifier depth. Use $101$ as your random state for both the base learner as well as the AdaBoost classifier every time."
   ]
  },
  {
   "cell_type": "code",
   "execution_count": null,
   "metadata": {},
   "outputs": [],
   "source": []
  }
 ],
 "metadata": {
  "colab": {
   "name": "hw2_programming_sol.ipynb",
   "provenance": [],
   "version": "0.3.2"
  },
  "kernelspec": {
   "display_name": "Python 3",
   "language": "python",
   "name": "python3"
  },
  "language_info": {
   "codemirror_mode": {
    "name": "ipython",
    "version": 3
   },
   "file_extension": ".py",
   "mimetype": "text/x-python",
   "name": "python",
   "nbconvert_exporter": "python",
   "pygments_lexer": "ipython3",
   "version": "3.8.5"
  }
 },
 "nbformat": 4,
 "nbformat_minor": 1
}
